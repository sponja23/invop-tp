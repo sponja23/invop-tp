{
 "cells": [
  {
   "cell_type": "markdown",
   "metadata": {},
   "source": [
    "# Experimento 5 - Conflictos entre Trabajadores"
   ]
  },
  {
   "cell_type": "code",
   "execution_count": 1,
   "metadata": {},
   "outputs": [],
   "source": [
    "%load_ext autoreload\n",
    "%autoreload 2"
   ]
  },
  {
   "cell_type": "code",
   "execution_count": 2,
   "metadata": {},
   "outputs": [],
   "source": [
    "\n",
    "import sys\n",
    "\n",
    "sys.path.append(\"../..\")\n",
    "\n",
    "import numpy as np\n",
    "import pandas as pd\n",
    "from matplotlib import pyplot as plt\n",
    "import seaborn as sns\n",
    "\n",
    "# Use latex\n",
    "plt.rc(\"text\", usetex=True)"
   ]
  },
  {
   "cell_type": "markdown",
   "metadata": {},
   "source": [
    "## Definiciones"
   ]
  },
  {
   "cell_type": "code",
   "execution_count": null,
   "metadata": {},
   "outputs": [],
   "source": [
    "from experimento import Experimento\n",
    "from src.generacion import (\n",
    "    GeneradorInstancias,\n",
    "    DistribucionIndependiente,\n",
    "    DistribucionUniforme,\n",
    "    DistribucionNormal,\n",
    ")\n",
    "from src.modelo.modelo import ConfiguracionAsignacionCuadrillas\n",
    "from src.modelo.restricciones_deseables import (\n",
    "    EvitarConflictos,\n",
    "    IgnorarConflictos,\n",
    "    MultarConflictos,\n",
    ")\n",
    "\n",
    "\n",
    "generador = GeneradorInstancias(\n",
    "    cantidad_trabajadores=DistribucionUniforme(5, 10),\n",
    "    cantidad_ordenes=DistribucionUniforme(5, 20),\n",
    "    parametros_ordenes=DistribucionIndependiente(\n",
    "        DistribucionNormal(10000, 2000),\n",
    "        DistribucionUniforme(3, 10),\n",
    "    ),\n",
    "    cantidad_conflictos_trabajadores=DistribucionUniforme(2, 10),\n",
    ")\n",
    "\n",
    "N = 1000\n",
    "instancias = [generador.generar_instancia() for _ in range(N)]"
   ]
  },
  {
   "cell_type": "code",
   "execution_count": null,
   "metadata": {},
   "outputs": [],
   "source": [
    "experimento_ignorar = Experimento(\n",
    "    nombre=\"exp5-ignorar\",\n",
    "    instancias=instancias,\n",
    "    configuracion_modelo=ConfiguracionAsignacionCuadrillas(\n",
    "        estrategia_conflictos=IgnorarConflictos(),\n",
    "    ),\n",
    ")"
   ]
  },
  {
   "cell_type": "code",
   "execution_count": null,
   "metadata": {},
   "outputs": [],
   "source": [
    "experimento_evitar = Experimento(\n",
    "    nombre=\"exp5-evitar\",\n",
    "    instancias=instancias,\n",
    "    configuracion_modelo=ConfiguracionAsignacionCuadrillas(\n",
    "        estrategia_conflictos=EvitarConflictos(),\n",
    "    ),\n",
    ")"
   ]
  },
  {
   "cell_type": "code",
   "execution_count": null,
   "metadata": {},
   "outputs": [],
   "source": [
    "experimento_multa_baja = Experimento(\n",
    "    nombre=\"exp5-multa-baja\",\n",
    "    instancias=instancias,\n",
    "    configuracion_modelo=ConfiguracionAsignacionCuadrillas(\n",
    "        estrategia_conflictos=MultarConflictos(penalizacion=500),\n",
    "    ),\n",
    ")"
   ]
  },
  {
   "cell_type": "code",
   "execution_count": null,
   "metadata": {},
   "outputs": [],
   "source": [
    "experimento_multa_alta = Experimento(\n",
    "    nombre=\"exp5-multa-alta\",\n",
    "    instancias=instancias,\n",
    "    configuracion_modelo=ConfiguracionAsignacionCuadrillas(\n",
    "        estrategia_conflictos=MultarConflictos(penalizacion=3000),\n",
    "    ),\n",
    ")"
   ]
  },
  {
   "cell_type": "markdown",
   "metadata": {},
   "source": [
    "## Ejecución"
   ]
  },
  {
   "cell_type": "code",
   "execution_count": null,
   "metadata": {},
   "outputs": [],
   "source": [
    "experimento_ignorar.ejecutar()"
   ]
  },
  {
   "cell_type": "code",
   "execution_count": null,
   "metadata": {},
   "outputs": [],
   "source": [
    "experimento_evitar.ejecutar()"
   ]
  },
  {
   "cell_type": "code",
   "execution_count": null,
   "metadata": {},
   "outputs": [],
   "source": [
    "experimento_multa_baja.ejecutar()"
   ]
  },
  {
   "cell_type": "code",
   "execution_count": null,
   "metadata": {},
   "outputs": [],
   "source": [
    "experimento_multa_alta.ejecutar()"
   ]
  }
 ],
 "metadata": {
  "kernelspec": {
   "display_name": "invop-tp-JJy6Hrxr-py3.10",
   "language": "python",
   "name": "python3"
  },
  "language_info": {
   "codemirror_mode": {
    "name": "ipython",
    "version": 3
   },
   "file_extension": ".py",
   "mimetype": "text/x-python",
   "name": "python",
   "nbconvert_exporter": "python",
   "pygments_lexer": "ipython3",
   "version": "3.10.14"
  }
 },
 "nbformat": 4,
 "nbformat_minor": 2
}
