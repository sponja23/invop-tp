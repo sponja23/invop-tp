{
 "cells": [
  {
   "cell_type": "markdown",
   "metadata": {},
   "source": [
    "# Experimento 3 - Órdenes Correlativas"
   ]
  },
  {
   "cell_type": "code",
   "execution_count": null,
   "metadata": {},
   "outputs": [],
   "source": [
    "%load_ext autoreload\n",
    "%autoreload 2"
   ]
  },
  {
   "cell_type": "code",
   "execution_count": null,
   "metadata": {},
   "outputs": [],
   "source": [
    "\n",
    "import sys\n",
    "\n",
    "sys.path.append(\"../..\")\n",
    "\n",
    "import numpy as np\n",
    "import pandas as pd\n",
    "from matplotlib import pyplot as plt\n",
    "import seaborn as sns\n",
    "\n",
    "# Use latex\n",
    "plt.rc(\"text\", usetex=True)"
   ]
  },
  {
   "cell_type": "markdown",
   "metadata": {},
   "source": [
    "## Definición"
   ]
  },
  {
   "cell_type": "code",
   "execution_count": null,
   "metadata": {},
   "outputs": [],
   "source": [
    "from experimento import Experimento\n",
    "from src.generacion import (\n",
    "    GeneradorInstancias,\n",
    "    DistribucionIndependiente,\n",
    "    DistribucionUniforme,\n",
    "    DistribucionNormal,\n",
    ")\n",
    "\n",
    "\n",
    "experimento = Experimento(\n",
    "    nombre=\"exp3\",\n",
    "    generador=GeneradorInstancias(\n",
    "        cantidad_trabajadores=DistribucionUniforme(5, 10),\n",
    "        cantidad_ordenes=DistribucionUniforme(5, 20),\n",
    "        parametros_ordenes=DistribucionIndependiente(\n",
    "            DistribucionNormal(10000, 2000),\n",
    "            DistribucionUniforme(3, 10),\n",
    "        ),\n",
    "        cantidad_ordenes_correlativas=DistribucionUniforme(2, 10),\n",
    "    ),\n",
    "    N=1000,\n",
    "    seed=42,\n",
    ")"
   ]
  },
  {
   "cell_type": "markdown",
   "metadata": {},
   "source": [
    "## Ejecución"
   ]
  },
  {
   "cell_type": "code",
   "execution_count": null,
   "metadata": {},
   "outputs": [],
   "source": [
    "resultados = experimento.ejecutar()"
   ]
  }
 ],
 "metadata": {
  "language_info": {
   "name": "python"
  }
 },
 "nbformat": 4,
 "nbformat_minor": 2
}
