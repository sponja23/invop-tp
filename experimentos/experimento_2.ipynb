{
 "cells": [
  {
   "cell_type": "markdown",
   "metadata": {},
   "source": [
    "# Experimento 2 - Órdenes Conflictivas"
   ]
  },
  {
   "cell_type": "code",
   "execution_count": 1,
   "metadata": {},
   "outputs": [],
   "source": [
    "%load_ext autoreload\n",
    "%autoreload 2"
   ]
  },
  {
   "cell_type": "code",
   "execution_count": 2,
   "metadata": {},
   "outputs": [],
   "source": [
    "\n",
    "import sys\n",
    "\n",
    "sys.path.append(\"../..\")\n",
    "\n",
    "import numpy as np\n",
    "import pandas as pd\n",
    "from matplotlib import pyplot as plt\n",
    "import seaborn as sns\n",
    "\n",
    "# Use latex\n",
    "plt.rc(\"text\", usetex=True)"
   ]
  },
  {
   "cell_type": "markdown",
   "metadata": {},
   "source": [
    "## Definición"
   ]
  },
  {
   "cell_type": "code",
   "execution_count": 5,
   "metadata": {},
   "outputs": [],
   "source": [
    "from experimento import Experimento\n",
    "from src.generacion import (\n",
    "    GeneradorInstancias,\n",
    "    DistribucionIndependiente,\n",
    "    DistribucionUniforme,\n",
    "    DistribucionNormal,\n",
    ")\n",
    "\n",
    "\n",
    "experimento = Experimento(\n",
    "    nombre=\"exp2\",\n",
    "    generador=GeneradorInstancias(\n",
    "        cantidad_trabajadores=DistribucionUniforme(5, 10),\n",
    "        cantidad_ordenes=DistribucionUniforme(5, 20),\n",
    "        parametros_ordenes=DistribucionIndependiente(\n",
    "            DistribucionNormal(10000, 2000),\n",
    "            DistribucionUniforme(3, 10),\n",
    "        ),\n",
    "        cantidad_ordenes_conflictivas=DistribucionUniforme(5, 20),\n",
    "    ),\n",
    "    N=1000,\n",
    "    seed=42,\n",
    ")"
   ]
  },
  {
   "cell_type": "markdown",
   "metadata": {},
   "source": [
    "## Ejecución"
   ]
  },
  {
   "cell_type": "code",
   "execution_count": 6,
   "metadata": {},
   "outputs": [
    {
     "name": "stderr",
     "output_type": "stream",
     "text": [
      "exp2: 100%|██████████| 1000/1000 [08:59<00:00,  1.85it/s] \n"
     ]
    }
   ],
   "source": [
    "resultados = experimento.ejecutar()"
   ]
  }
 ],
 "metadata": {
  "kernelspec": {
   "display_name": "invop-tp-JJy6Hrxr-py3.10",
   "language": "python",
   "name": "python3"
  },
  "language_info": {
   "codemirror_mode": {
    "name": "ipython",
    "version": 3
   },
   "file_extension": ".py",
   "mimetype": "text/x-python",
   "name": "python",
   "nbconvert_exporter": "python",
   "pygments_lexer": "ipython3",
   "version": "3.10.14"
  }
 },
 "nbformat": 4,
 "nbformat_minor": 2
}
