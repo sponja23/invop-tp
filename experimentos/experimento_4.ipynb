{
 "cells": [
  {
   "cell_type": "markdown",
   "metadata": {},
   "source": [
    "# Experimento 4 - Órdenes Repetitivas"
   ]
  },
  {
   "cell_type": "code",
   "execution_count": null,
   "metadata": {},
   "outputs": [],
   "source": [
    "%load_ext autoreload\n",
    "%autoreload 2"
   ]
  },
  {
   "cell_type": "code",
   "execution_count": null,
   "metadata": {},
   "outputs": [],
   "source": [
    "\n",
    "import sys\n",
    "\n",
    "sys.path.append(\"../..\")\n",
    "\n",
    "import numpy as np\n",
    "import pandas as pd\n",
    "from matplotlib import pyplot as plt\n",
    "import seaborn as sns\n",
    "\n",
    "# Use latex\n",
    "plt.rc(\"text\", usetex=True)"
   ]
  },
  {
   "cell_type": "markdown",
   "metadata": {},
   "source": [
    "## Definiciones"
   ]
  },
  {
   "cell_type": "code",
   "execution_count": null,
   "metadata": {},
   "outputs": [],
   "source": [
    "from experimento import Experimento\n",
    "from src.generacion import (\n",
    "    GeneradorInstancias,\n",
    "    DistribucionIndependiente,\n",
    "    DistribucionUniforme,\n",
    "    DistribucionNormal,\n",
    ")\n",
    "from src.modelo.modelo import ConfiguracionAsignacionCuadrillas\n",
    "from src.modelo.restricciones_deseables import (\n",
    "    EvitarRepeticiones,\n",
    "    IgnorarRepeticiones,\n",
    "    MultarRepeticiones,\n",
    ")\n",
    "\n",
    "\n",
    "generador = GeneradorInstancias(\n",
    "    cantidad_trabajadores=DistribucionUniforme(5, 10),\n",
    "    cantidad_ordenes=DistribucionUniforme(5, 20),\n",
    "    parametros_ordenes=DistribucionIndependiente(\n",
    "        DistribucionNormal(10000, 2000),\n",
    "        DistribucionUniforme(3, 10),\n",
    "    ),\n",
    "    cantidad_ordenes_repetitivas=DistribucionUniforme(2, 10),\n",
    ")\n",
    "\n",
    "N = 1000\n",
    "instancias = [generador.generar_instancia() for _ in range(N)]"
   ]
  },
  {
   "cell_type": "code",
   "execution_count": null,
   "metadata": {},
   "outputs": [],
   "source": [
    "experimento_ignorar = Experimento(\n",
    "    nombre=\"exp4-ignorar\",\n",
    "    instancias=instancias,\n",
    "    configuracion_modelo=ConfiguracionAsignacionCuadrillas(\n",
    "        estrategia_repetitiva=IgnorarRepeticiones(),\n",
    "    ),\n",
    ")"
   ]
  },
  {
   "cell_type": "code",
   "execution_count": null,
   "metadata": {},
   "outputs": [],
   "source": [
    "experimento_evitar = Experimento(\n",
    "    nombre=\"exp4-evitar\",\n",
    "    instancias=instancias,\n",
    "    configuracion_modelo=ConfiguracionAsignacionCuadrillas(\n",
    "        estrategia_repetitiva=EvitarRepeticiones(),\n",
    "    ),\n",
    ")"
   ]
  },
  {
   "cell_type": "code",
   "execution_count": null,
   "metadata": {},
   "outputs": [],
   "source": [
    "experimento_multa_baja = Experimento(\n",
    "    nombre=\"exp4-multa-baja\",\n",
    "    instancias=instancias,\n",
    "    configuracion_modelo=ConfiguracionAsignacionCuadrillas(\n",
    "        estrategia_repetitiva=MultarRepeticiones(penalizacion=500),\n",
    "    ),\n",
    ")"
   ]
  },
  {
   "cell_type": "code",
   "execution_count": null,
   "metadata": {},
   "outputs": [],
   "source": [
    "experimento_multa_alta = Experimento(\n",
    "    nombre=\"exp4-multa-alta\",\n",
    "    instancias=instancias,\n",
    "    configuracion_modelo=ConfiguracionAsignacionCuadrillas(\n",
    "        estrategia_repetitiva=MultarRepeticiones(penalizacion=3000),\n",
    "    ),\n",
    ")"
   ]
  },
  {
   "cell_type": "markdown",
   "metadata": {},
   "source": [
    "## Ejecución"
   ]
  },
  {
   "cell_type": "code",
   "execution_count": null,
   "metadata": {},
   "outputs": [],
   "source": [
    "resultados_ignorar = experimento_ignorar.ejecutar()"
   ]
  },
  {
   "cell_type": "code",
   "execution_count": null,
   "metadata": {},
   "outputs": [],
   "source": [
    "resultados_evitar = experimento_evitar.ejecutar()"
   ]
  },
  {
   "cell_type": "code",
   "execution_count": null,
   "metadata": {},
   "outputs": [],
   "source": [
    "resultados_multa_baja = experimento_multa_baja.ejecutar()"
   ]
  },
  {
   "cell_type": "code",
   "execution_count": null,
   "metadata": {},
   "outputs": [],
   "source": [
    "resultados_multa_alta = experimento_multa_alta.ejecutar()"
   ]
  }
 ],
 "metadata": {
  "language_info": {
   "name": "python"
  }
 },
 "nbformat": 4,
 "nbformat_minor": 2
}
