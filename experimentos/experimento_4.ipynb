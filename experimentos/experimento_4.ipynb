{
 "cells": [
  {
   "cell_type": "markdown",
   "metadata": {},
   "source": [
    "# Experimento 4 - Órdenes Repetitivas"
   ]
  },
  {
   "cell_type": "code",
   "execution_count": 8,
   "metadata": {},
   "outputs": [
    {
     "name": "stdout",
     "output_type": "stream",
     "text": [
      "The autoreload extension is already loaded. To reload it, use:\n",
      "  %reload_ext autoreload\n"
     ]
    }
   ],
   "source": [
    "%load_ext autoreload\n",
    "%autoreload 2"
   ]
  },
  {
   "cell_type": "code",
   "execution_count": 9,
   "metadata": {},
   "outputs": [],
   "source": [
    "\n",
    "import sys\n",
    "\n",
    "sys.path.append(\"../..\")\n",
    "\n",
    "import numpy as np\n",
    "import pandas as pd\n",
    "from matplotlib import pyplot as plt\n",
    "import seaborn as sns\n",
    "\n",
    "# Use latex\n",
    "plt.rc(\"text\", usetex=True)"
   ]
  },
  {
   "cell_type": "markdown",
   "metadata": {},
   "source": [
    "## Definiciones"
   ]
  },
  {
   "cell_type": "code",
   "execution_count": 22,
   "metadata": {},
   "outputs": [],
   "source": [
    "from experimento import Experimento\n",
    "from src.generacion import (\n",
    "    GeneradorInstancias,\n",
    "    DistribucionIndependiente,\n",
    "    DistribucionUniforme,\n",
    "    DistribucionNormal,\n",
    ")\n",
    "from src.modelo.modelo import ConfiguracionAsignacionCuadrillas\n",
    "from src.modelo.restricciones_deseables import (\n",
    "    EvitarRepeticiones,\n",
    "    IgnorarRepeticiones,\n",
    "    MultarRepeticiones,\n",
    ")\n",
    "\n",
    "\n",
    "generador = GeneradorInstancias(\n",
    "    cantidad_trabajadores=DistribucionUniforme(2, 5),\n",
    "    cantidad_ordenes=DistribucionUniforme(5, 20),\n",
    "    parametros_ordenes=DistribucionIndependiente(\n",
    "        DistribucionNormal(10000, 2000),\n",
    "        DistribucionUniforme(3, 10),\n",
    "    ),\n",
    "    cantidad_ordenes_repetitivas=DistribucionUniforme(2, 10),\n",
    ")\n",
    "\n",
    "N = 1000\n",
    "instancias = [generador.generar_instancia() for _ in range(N)]"
   ]
  },
  {
   "cell_type": "code",
   "execution_count": 23,
   "metadata": {},
   "outputs": [],
   "source": [
    "experimento_ignorar = Experimento(\n",
    "    nombre=\"exp4-ignorar\",\n",
    "    instancias=instancias,\n",
    "    configuracion_modelo=ConfiguracionAsignacionCuadrillas(\n",
    "        estrategia_repetitiva=IgnorarRepeticiones(),\n",
    "    ),\n",
    ")"
   ]
  },
  {
   "cell_type": "code",
   "execution_count": 24,
   "metadata": {},
   "outputs": [],
   "source": [
    "experimento_evitar = Experimento(\n",
    "    nombre=\"exp4-evitar\",\n",
    "    instancias=instancias,\n",
    "    configuracion_modelo=ConfiguracionAsignacionCuadrillas(\n",
    "        estrategia_repetitiva=EvitarRepeticiones(),\n",
    "    ),\n",
    ")"
   ]
  },
  {
   "cell_type": "code",
   "execution_count": 25,
   "metadata": {},
   "outputs": [],
   "source": [
    "experimento_multa_baja = Experimento(\n",
    "    nombre=\"exp4-multa-baja\",\n",
    "    instancias=instancias,\n",
    "    configuracion_modelo=ConfiguracionAsignacionCuadrillas(\n",
    "        estrategia_repetitiva=MultarRepeticiones(penalizacion=500),\n",
    "    ),\n",
    ")"
   ]
  },
  {
   "cell_type": "code",
   "execution_count": 26,
   "metadata": {},
   "outputs": [],
   "source": [
    "experimento_multa_alta = Experimento(\n",
    "    nombre=\"exp4-multa-alta\",\n",
    "    instancias=instancias,\n",
    "    configuracion_modelo=ConfiguracionAsignacionCuadrillas(\n",
    "        estrategia_repetitiva=MultarRepeticiones(penalizacion=3000),\n",
    "    ),\n",
    ")"
   ]
  },
  {
   "cell_type": "markdown",
   "metadata": {},
   "source": [
    "## Ejecución"
   ]
  },
  {
   "cell_type": "code",
   "execution_count": null,
   "metadata": {},
   "outputs": [],
   "source": [
    "resultados_ignorar = experimento_ignorar.ejecutar()"
   ]
  },
  {
   "cell_type": "code",
   "execution_count": 16,
   "metadata": {},
   "outputs": [],
   "source": [
    "resultados_evitar = experimento_evitar.ejecutar()"
   ]
  },
  {
   "cell_type": "code",
   "execution_count": 17,
   "metadata": {},
   "outputs": [],
   "source": [
    "resultados_multa_baja = experimento_multa_baja.ejecutar()"
   ]
  },
  {
   "cell_type": "code",
   "execution_count": 18,
   "metadata": {},
   "outputs": [],
   "source": [
    "resultados_multa_alta = experimento_multa_alta.ejecutar()"
   ]
  },
  {
   "cell_type": "markdown",
   "metadata": {},
   "source": [
    "## Análisis"
   ]
  },
  {
   "cell_type": "code",
   "execution_count": 19,
   "metadata": {},
   "outputs": [],
   "source": [
    "from graficos import boxplot"
   ]
  },
  {
   "cell_type": "markdown",
   "metadata": {},
   "source": [
    "### Distribución Objetivo"
   ]
  },
  {
   "cell_type": "code",
   "execution_count": 21,
   "metadata": {},
   "outputs": [
    {
     "data": {
      "image/png": "[encoded data removed]",
      "text/plain": [
       "<Figure size 1000x500 with 1 Axes>"
      ]
     },
     "metadata": {},
     "output_type": "display_data"
    }
   ],
   "source": [
    "fig = boxplot(\n",
    "    [\n",
    "        resultados_ignorar.objetivos,\n",
    "        resultados_evitar.objetivos,\n",
    "        resultados_multa_baja.objetivos,\n",
    "        resultados_multa_alta.objetivos,\n",
    "    ],\n",
    "    [\"Ignorar\", \"Evitar\", \"Multa baja\", \"Multa alta\"],\n",
    "    xlabel=\"Objetivo\",\n",
    "    ylabel=\"Estrategia\",\n",
    ")"
   ]
  }
 ],
 "metadata": {
  "kernelspec": {
   "display_name": "Python 3 (ipykernel)",
   "language": "python",
   "name": "python3"
  },
  "language_info": {
   "codemirror_mode": {
    "name": "ipython",
    "version": 3
   },
   "file_extension": ".py",
   "mimetype": "text/x-python",
   "name": "python",
   "nbconvert_exporter": "python",
   "pygments_lexer": "ipython3",
   "version": "3.10.14"
  }
 },
 "nbformat": 4,
 "nbformat_minor": 4
}
