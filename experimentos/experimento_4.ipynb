{
 "cells": [
  {
   "cell_type": "markdown",
   "metadata": {},
   "source": [
    "# Experimento 4 - Órdenes Repetitivas"
   ]
  },
  {
   "cell_type": "code",
   "execution_count": 1,
   "metadata": {},
   "outputs": [],
   "source": [
    "%load_ext autoreload\n",
    "%autoreload 2"
   ]
  },
  {
   "cell_type": "code",
   "execution_count": 2,
   "metadata": {},
   "outputs": [],
   "source": [
    "\n",
    "import sys\n",
    "\n",
    "sys.path.append(\"../..\")\n",
    "\n",
    "import numpy as np\n",
    "import pandas as pd\n",
    "from matplotlib import pyplot as plt\n",
    "import seaborn as sns\n",
    "\n",
    "# Use latex\n",
    "plt.rc(\"text\", usetex=True)"
   ]
  },
  {
   "cell_type": "markdown",
   "metadata": {},
   "source": [
    "## Definiciones"
   ]
  },
  {
   "cell_type": "code",
   "execution_count": 3,
   "metadata": {},
   "outputs": [],
   "source": [
    "from experimento import Experimento\n",
    "from src.generacion import (\n",
    "    GeneradorInstancias,\n",
    "    DistribucionIndependiente,\n",
    "    DistribucionUniforme,\n",
    "    DistribucionNormal,\n",
    ")\n",
    "from src.modelo.modelo import ConfiguracionAsignacionCuadrillas\n",
    "from src.modelo.restricciones_deseables import (\n",
    "    EvitarRepeticiones,\n",
    "    IgnorarRepeticiones,\n",
    "    MultarRepeticiones,\n",
    ")\n",
    "\n",
    "\n",
    "generador = GeneradorInstancias(\n",
    "    cantidad_trabajadores=DistribucionUniforme(5, 10),\n",
    "    cantidad_ordenes=DistribucionUniforme(5, 20),\n",
    "    parametros_ordenes=DistribucionIndependiente(\n",
    "        DistribucionNormal(10000, 2000),\n",
    "        DistribucionUniforme(3, 10),\n",
    "    ),\n",
    "    cantidad_ordenes_repetitivas=DistribucionUniforme(2, 10),\n",
    ")\n",
    "\n",
    "N = 1000\n",
    "instancias = [generador.generar_instancia() for _ in range(N)]"
   ]
  },
  {
   "cell_type": "code",
   "execution_count": 4,
   "metadata": {},
   "outputs": [],
   "source": [
    "experimento_ignorar = Experimento(\n",
    "    nombre=\"exp4-ignorar\",\n",
    "    instancias=instancias,\n",
    "    configuracion_modelo=ConfiguracionAsignacionCuadrillas(\n",
    "        estrategia_repetitiva=IgnorarRepeticiones(),\n",
    "    ),\n",
    ")"
   ]
  },
  {
   "cell_type": "code",
   "execution_count": 5,
   "metadata": {},
   "outputs": [],
   "source": [
    "experimento_evitar = Experimento(\n",
    "    nombre=\"exp4-evitar\",\n",
    "    instancias=instancias,\n",
    "    configuracion_modelo=ConfiguracionAsignacionCuadrillas(\n",
    "        estrategia_repetitiva=EvitarRepeticiones(),\n",
    "    ),\n",
    ")"
   ]
  },
  {
   "cell_type": "code",
   "execution_count": 6,
   "metadata": {},
   "outputs": [],
   "source": [
    "experimento_multa_baja = Experimento(\n",
    "    nombre=\"exp4-multa-baja\",\n",
    "    instancias=instancias,\n",
    "    configuracion_modelo=ConfiguracionAsignacionCuadrillas(\n",
    "        estrategia_repetitiva=MultarRepeticiones(penalizacion=500),\n",
    "    ),\n",
    ")"
   ]
  },
  {
   "cell_type": "code",
   "execution_count": 7,
   "metadata": {},
   "outputs": [],
   "source": [
    "experimento_multa_alta = Experimento(\n",
    "    nombre=\"exp4-multa-alta\",\n",
    "    instancias=instancias,\n",
    "    configuracion_modelo=ConfiguracionAsignacionCuadrillas(\n",
    "        estrategia_repetitiva=MultarRepeticiones(penalizacion=3000),\n",
    "    ),\n",
    ")"
   ]
  },
  {
   "cell_type": "markdown",
   "metadata": {},
   "source": [
    "## Ejecución"
   ]
  },
  {
   "cell_type": "code",
   "execution_count": 8,
   "metadata": {},
   "outputs": [],
   "source": [
    "resultados_ignorar = experimento_ignorar.ejecutar()"
   ]
  },
  {
   "cell_type": "code",
   "execution_count": 9,
   "metadata": {},
   "outputs": [],
   "source": [
    "resultados_evitar = experimento_evitar.ejecutar()"
   ]
  },
  {
   "cell_type": "code",
   "execution_count": 10,
   "metadata": {},
   "outputs": [],
   "source": [
    "resultados_multa_baja = experimento_multa_baja.ejecutar()"
   ]
  },
  {
   "cell_type": "code",
   "execution_count": 11,
   "metadata": {},
   "outputs": [],
   "source": [
    "resultados_multa_alta = experimento_multa_alta.ejecutar()"
   ]
  },
  {
   "cell_type": "code",
   "execution_count": 16,
   "metadata": {},
   "outputs": [],
   "source": [
    "dict_resultados = {\n",
    "    \"Ignorar\": resultados_ignorar,\n",
    "    \"Evitar\": resultados_evitar,\n",
    "    \"Multa baja\": resultados_multa_baja,\n",
    "    \"Multa alta\": resultados_multa_alta,\n",
    "}"
   ]
  },
  {
   "cell_type": "markdown",
   "metadata": {},
   "source": [
    "## Análisis"
   ]
  },
  {
   "cell_type": "code",
   "execution_count": 12,
   "metadata": {},
   "outputs": [],
   "source": [
    "from graficos import boxplot"
   ]
  },
  {
   "cell_type": "markdown",
   "metadata": {},
   "source": [
    "### Distribución Función Objetivo"
   ]
  },
  {
   "cell_type": "code",
   "execution_count": 19,
   "metadata": {},
   "outputs": [
    {
     "data": {
      "image/png": "[encoded data removed]",
      "text/plain": [
       "<Figure size 1000x500 with 1 Axes>"
      ]
     },
     "metadata": {},
     "output_type": "display_data"
    }
   ],
   "source": [
    "fig = boxplot(\n",
    "    [res.objetivos for res in dict_resultados.values()],\n",
    "    dict_resultados.keys(),\n",
    "    xlabel=\"Objetivo\",\n",
    "    ylabel=\"Modelo\",\n",
    ")\n",
    "\n",
    "fig.savefig(\"graficos/exp4/distribucion_objetivo.pdf\")"
   ]
  },
  {
   "cell_type": "code",
   "execution_count": 18,
   "metadata": {},
   "outputs": [
    {
     "data": {
      "text/plain": [
       "[np.float64(37054.45701655239),\n",
       " np.float64(33038.45500153286),\n",
       " np.float64(35049.820159475865),\n",
       " np.float64(33361.02989807249)]"
      ]
     },
     "execution_count": 18,
     "metadata": {},
     "output_type": "execute_result"
    }
   ],
   "source": [
    "[pd.Series(res.objetivos).mean() for res in dict_resultados.values()]"
   ]
  },
  {
   "cell_type": "markdown",
   "metadata": {},
   "source": [
    "### Tiempo"
   ]
  },
  {
   "cell_type": "code",
   "execution_count": 24,
   "metadata": {},
   "outputs": [
    {
     "data": {
      "image/png": "[encoded data removed]",
      "text/plain": [
       "<Figure size 1000x500 with 1 Axes>"
      ]
     },
     "metadata": {},
     "output_type": "display_data"
    }
   ],
   "source": [
    "import math\n",
    "\n",
    "\n",
    "fig = boxplot(\n",
    "    [[math.log(t, 10) for t in res.tiempos] for res in dict_resultados.values()],\n",
    "    dict_resultados.keys(),\n",
    "    xlabel=\"Tiempo (log10 segundos)\",\n",
    "    ylabel=\"Modelo\",\n",
    ")\n",
    "\n",
    "fig.savefig(\"graficos/exp4/distribucion_tiempo.pdf\")"
   ]
  },
  {
   "cell_type": "code",
   "execution_count": 26,
   "metadata": {},
   "outputs": [
    {
     "data": {
      "text/plain": [
       "{'Ignorar': 3.2875765561833985,\n",
       " 'Evitar': 20.724745733883328,\n",
       " 'Multa baja': 31.012644971866724,\n",
       " 'Multa alta': 33.8082103341666}"
      ]
     },
     "execution_count": 26,
     "metadata": {},
     "output_type": "execute_result"
    }
   ],
   "source": [
    "{label: sum(resultados.tiempos) / 60 for label, resultados in dict_resultados.items()}"
   ]
  }
 ],
 "metadata": {
  "kernelspec": {
   "display_name": "Python 3 (ipykernel)",
   "language": "python",
   "name": "python3"
  },
  "language_info": {
   "codemirror_mode": {
    "name": "ipython",
    "version": 3
   },
   "file_extension": ".py",
   "mimetype": "text/x-python",
   "name": "python",
   "nbconvert_exporter": "python",
   "pygments_lexer": "ipython3",
   "version": "3.10.14"
  }
 },
 "nbformat": 4,
 "nbformat_minor": 4
}
