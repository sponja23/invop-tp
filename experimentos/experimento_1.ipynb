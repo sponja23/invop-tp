{
 "cells": [
  {
   "cell_type": "markdown",
   "metadata": {},
   "source": [
    "# Experimento 1 - Sin Restricciones Adicionales"
   ]
  },
  {
   "cell_type": "code",
   "execution_count": 2,
   "metadata": {},
   "outputs": [],
   "source": [
    "%load_ext autoreload\n",
    "%autoreload 2"
   ]
  },
  {
   "cell_type": "code",
   "execution_count": 3,
   "metadata": {},
   "outputs": [],
   "source": [
    "import sys\n",
    "\n",
    "sys.path.append(\"..\")\n",
    "\n",
    "import pickle\n",
    "import random\n",
    "\n",
    "import numpy as np\n",
    "import pandas as pd\n",
    "from matplotlib import pyplot as plt\n",
    "import seaborn as sns\n",
    "\n",
    "# Use latex\n",
    "plt.rc(\"text\", usetex=True)"
   ]
  },
  {
   "cell_type": "markdown",
   "metadata": {},
   "source": [
    "## Definición"
   ]
  },
  {
   "cell_type": "code",
   "execution_count": 5,
   "metadata": {},
   "outputs": [],
   "source": [
    "from experimento import Experimento\n",
    "from src.generacion import (\n",
    "    GeneradorInstancias,\n",
    "    DistribucionIndependiente,\n",
    "    DistribucionUniforme,\n",
    "    DistribucionNormal,\n",
    ")\n",
    "\n",
    "\n",
    "experimento = Experimento(\n",
    "    nombre=\"exp1\",\n",
    "    generador=GeneradorInstancias(\n",
    "        cantidad_trabajadores=DistribucionUniforme(5, 10),\n",
    "        cantidad_ordenes=DistribucionUniforme(5, 20),\n",
    "        parametros_ordenes=DistribucionIndependiente(\n",
    "            DistribucionNormal(10000, 2000),\n",
    "            DistribucionUniforme(3, 10),\n",
    "        ),\n",
    "    ),\n",
    "    N=1000,\n",
    "    seed=42,\n",
    ")"
   ]
  },
  {
   "cell_type": "markdown",
   "metadata": {},
   "source": [
    "## Ejecución"
   ]
  },
  {
   "cell_type": "code",
   "execution_count": 8,
   "metadata": {},
   "outputs": [
    {
     "name": "stderr",
     "output_type": "stream",
     "text": [
      "exp1: 100%|██████████| 1000/1000 [08:08<00:00,  2.05it/s] \n"
     ]
    },
    {
     "ename": "FileNotFoundError",
     "evalue": "[Errno 2] No such file or directory: '/home/sponja/Projects/invop-tp/experimentos/datos/exp1/resultados.pkl'",
     "output_type": "error",
     "traceback": [
      "\u001b[0;31m---------------------------------------------------------------------------\u001b[0m",
      "\u001b[0;31mFileNotFoundError\u001b[0m                         Traceback (most recent call last)",
      "Cell \u001b[0;32mIn[8], line 1\u001b[0m\n\u001b[0;32m----> 1\u001b[0m resultados \u001b[38;5;241m=\u001b[39m \u001b[43mexperimento\u001b[49m\u001b[38;5;241;43m.\u001b[39;49m\u001b[43mejecutar\u001b[49m\u001b[43m(\u001b[49m\u001b[43m)\u001b[49m\n",
      "File \u001b[0;32m~/Projects/invop-tp/experimentos/experimento.py:75\u001b[0m, in \u001b[0;36mExperimento.ejecutar\u001b[0;34m(self)\u001b[0m\n\u001b[1;32m     66\u001b[0m resultados_solucion \u001b[38;5;241m=\u001b[39m \u001b[38;5;28mself\u001b[39m\u001b[38;5;241m.\u001b[39mresolver_instancias(instancias)\n\u001b[1;32m     68\u001b[0m resultados \u001b[38;5;241m=\u001b[39m ResultadosExperimento(\n\u001b[1;32m     69\u001b[0m     instancias\u001b[38;5;241m=\u001b[39minstancias,\n\u001b[1;32m     70\u001b[0m     soluciones\u001b[38;5;241m=\u001b[39m[sol \u001b[38;5;28;01mfor\u001b[39;00m sol, _, _ \u001b[38;5;129;01min\u001b[39;00m resultados_solucion],\n\u001b[1;32m     71\u001b[0m     objetivos\u001b[38;5;241m=\u001b[39m[obj \u001b[38;5;28;01mfor\u001b[39;00m _, obj, _ \u001b[38;5;129;01min\u001b[39;00m resultados_solucion],\n\u001b[1;32m     72\u001b[0m     tiempos\u001b[38;5;241m=\u001b[39m[tiempo \u001b[38;5;28;01mfor\u001b[39;00m _, _, tiempo \u001b[38;5;129;01min\u001b[39;00m resultados_solucion],\n\u001b[1;32m     73\u001b[0m )\n\u001b[0;32m---> 75\u001b[0m \u001b[38;5;28;01mwith\u001b[39;00m \u001b[38;5;28;43mopen\u001b[39;49m\u001b[43m(\u001b[49m\u001b[43mpath_resultados\u001b[49m\u001b[43m,\u001b[49m\u001b[43m \u001b[49m\u001b[38;5;124;43m\"\u001b[39;49m\u001b[38;5;124;43mwb\u001b[39;49m\u001b[38;5;124;43m\"\u001b[39;49m\u001b[43m)\u001b[49m \u001b[38;5;28;01mas\u001b[39;00m f:\n\u001b[1;32m     76\u001b[0m     pickle\u001b[38;5;241m.\u001b[39mdump(resultados, f)\n\u001b[1;32m     78\u001b[0m \u001b[38;5;28;01mreturn\u001b[39;00m resultados\n",
      "\u001b[0;31mFileNotFoundError\u001b[0m: [Errno 2] No such file or directory: '/home/sponja/Projects/invop-tp/experimentos/datos/exp1/resultados.pkl'"
     ]
    }
   ],
   "source": [
    "resultados = experimento.ejecutar()"
   ]
  },
  {
   "cell_type": "code",
   "execution_count": 9,
   "metadata": {},
   "outputs": [
    {
     "ename": "NameError",
     "evalue": "name 'resultados' is not defined",
     "output_type": "error",
     "traceback": [
      "\u001b[0;31m---------------------------------------------------------------------------\u001b[0m",
      "\u001b[0;31mNameError\u001b[0m                                 Traceback (most recent call last)",
      "Cell \u001b[0;32mIn[9], line 1\u001b[0m\n\u001b[0;32m----> 1\u001b[0m \u001b[43mresultados\u001b[49m\n",
      "\u001b[0;31mNameError\u001b[0m: name 'resultados' is not defined"
     ]
    }
   ],
   "source": [
    "resultados"
   ]
  }
 ],
 "metadata": {
  "kernelspec": {
   "display_name": "invop-tp-JJy6Hrxr-py3.10",
   "language": "python",
   "name": "python3"
  },
  "language_info": {
   "codemirror_mode": {
    "name": "ipython",
    "version": 3
   },
   "file_extension": ".py",
   "mimetype": "text/x-python",
   "name": "python",
   "nbconvert_exporter": "python",
   "pygments_lexer": "ipython3",
   "version": "3.10.14"
  }
 },
 "nbformat": 4,
 "nbformat_minor": 2
}
