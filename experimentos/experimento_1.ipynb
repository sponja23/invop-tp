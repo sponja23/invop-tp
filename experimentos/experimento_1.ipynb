{
 "cells": [
  {
   "cell_type": "markdown",
   "metadata": {},
   "source": [
    "# Experimento 1 - Sin Restricciones Adicionales"
   ]
  },
  {
   "cell_type": "code",
   "execution_count": 1,
   "metadata": {},
   "outputs": [],
   "source": [
    "%load_ext autoreload\n",
    "%autoreload 2"
   ]
  },
  {
   "cell_type": "code",
   "execution_count": 9,
   "metadata": {},
   "outputs": [],
   "source": [
    "import sys\n",
    "\n",
    "sys.path.append(\"..\")\n",
    "\n",
    "import pickle\n",
    "import random\n",
    "\n",
    "import numpy as np\n",
    "import pandas as pd\n",
    "from matplotlib import pyplot as plt\n",
    "import seaborn as sns\n",
    "\n",
    "# Use latex\n",
    "plt.rc(\"text\", usetex=True)"
   ]
  },
  {
   "cell_type": "markdown",
   "metadata": {},
   "source": [
    "## Definición"
   ]
  },
  {
   "cell_type": "code",
   "execution_count": 10,
   "metadata": {},
   "outputs": [],
   "source": [
    "from experimento import Experimento\n",
    "from src.generacion import (\n",
    "    GeneradorInstancias,\n",
    "    DistribucionIndependiente,\n",
    "    DistribucionUniforme,\n",
    "    DistribucionNormal,\n",
    ")\n",
    "\n",
    "\n",
    "experimento = Experimento(\n",
    "    nombre=\"exp1\",\n",
    "    generador=GeneradorInstancias(\n",
    "        cantidad_trabajadores=DistribucionUniforme(5, 10),\n",
    "        cantidad_ordenes=DistribucionUniforme(5, 20),\n",
    "        parametros_ordenes=DistribucionIndependiente(\n",
    "            DistribucionNormal(10000, 2000),\n",
    "            DistribucionUniforme(3, 10),\n",
    "        ),\n",
    "    ),\n",
    "    N=1000,\n",
    "    seed=42,\n",
    ")"
   ]
  },
  {
   "cell_type": "markdown",
   "metadata": {},
   "source": [
    "## Ejecución"
   ]
  },
  {
   "cell_type": "code",
   "execution_count": 11,
   "metadata": {},
   "outputs": [
    {
     "name": "stderr",
     "output_type": "stream",
     "text": [
      "exp1: 100%|██████████| 1000/1000 [06:58<00:00,  2.39it/s] \n"
     ]
    }
   ],
   "source": [
    "resultados = experimento.ejecutar()"
   ]
  }
 ],
 "metadata": {
  "kernelspec": {
   "display_name": "invop-tp-JJy6Hrxr-py3.10",
   "language": "python",
   "name": "python3"
  },
  "language_info": {
   "codemirror_mode": {
    "name": "ipython",
    "version": 3
   },
   "file_extension": ".py",
   "mimetype": "text/x-python",
   "name": "python",
   "nbconvert_exporter": "python",
   "pygments_lexer": "ipython3",
   "version": "3.10.14"
  }
 },
 "nbformat": 4,
 "nbformat_minor": 2
}
