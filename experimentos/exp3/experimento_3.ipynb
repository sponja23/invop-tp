{
 "cells": [
  {
   "cell_type": "markdown",
   "metadata": {},
   "source": [
    "# Experimento 3 - Órdenes Correlativas"
   ]
  },
  {
   "cell_type": "code",
   "execution_count": 1,
   "metadata": {},
   "outputs": [],
   "source": [
    "%load_ext autoreload\n",
    "%autoreload 2"
   ]
  },
  {
   "cell_type": "code",
   "execution_count": 2,
   "metadata": {},
   "outputs": [],
   "source": [
    "import sys\n",
    "\n",
    "sys.path.append(\"../..\")\n",
    "\n",
    "import pickle\n",
    "import random\n",
    "\n",
    "import numpy as np\n",
    "import pandas as pd\n",
    "from matplotlib import pyplot as plt\n",
    "import seaborn as sns\n",
    "\n",
    "# Use latex\n",
    "plt.rc(\"text\", usetex=True)"
   ]
  },
  {
   "cell_type": "markdown",
   "metadata": {},
   "source": [
    "## Generación"
   ]
  },
  {
   "cell_type": "markdown",
   "metadata": {},
   "source": [
    "Generación de instancias:"
   ]
  },
  {
   "cell_type": "code",
   "execution_count": 3,
   "metadata": {},
   "outputs": [],
   "source": [
    "from src.generacion import (\n",
    "    GeneradorInstancias,\n",
    "    DistribucionIndependiente,\n",
    "    DistribucionUniforme,\n",
    "    DistribucionNormal,\n",
    ")\n",
    "\n",
    "random.seed(42)\n",
    "\n",
    "# Generar instancias\n",
    "N = 1000\n",
    "\n",
    "generador = GeneradorInstancias(\n",
    "    cantidad_trabajadores=DistribucionUniforme(5, 10),\n",
    "    cantidad_ordenes=DistribucionUniforme(5, 20),\n",
    "    parametros_ordenes=DistribucionIndependiente(\n",
    "        DistribucionNormal(10000, 2000),\n",
    "        DistribucionUniforme(3, 10),\n",
    "    ),\n",
    "    cantidad_ordenes_correlativas=DistribucionUniforme(2, 10),\n",
    ")\n",
    "\n",
    "instancias = [generador.generar_instancia() for _ in range(N)]\n",
    "\n",
    "with open(\"datos/instancia.pkl\", \"wb\") as f:\n",
    "    pickle.dump(instancias, f)"
   ]
  },
  {
   "cell_type": "code",
   "execution_count": 4,
   "metadata": {},
   "outputs": [],
   "source": [
    "from typing import List\n",
    "from src.instancia import InstanciaAsignacionCuadrillas\n",
    "\n",
    "\n",
    "with open(\"datos/instancia.pkl\", \"rb\") as f:\n",
    "    instancias: List[InstanciaAsignacionCuadrillas] = pickle.load(f)"
   ]
  },
  {
   "cell_type": "markdown",
   "metadata": {},
   "source": [
    "## Resolución"
   ]
  },
  {
   "cell_type": "code",
   "execution_count": 5,
   "metadata": {},
   "outputs": [
    {
     "name": "stderr",
     "output_type": "stream",
     "text": [
      "100%|██████████| 1000/1000 [13:07<00:00,  1.27it/s] \n"
     ]
    }
   ],
   "source": [
    "from tqdm import tqdm\n",
    "from src.modelo import ModeloAsignacionCuadrillas\n",
    "from src.solver import ConfiguracionCPLEX\n",
    "\n",
    "\n",
    "soluciones = []\n",
    "for instancia in tqdm(instancias):\n",
    "    modelo = ModeloAsignacionCuadrillas(instancia)\n",
    "    solver = modelo.armar_solver(ConfiguracionCPLEX(sin_output=True))\n",
    "\n",
    "    objetivo, valores = solver.resolver()\n",
    "\n",
    "    anotada = modelo.anotar_solucion(valores)\n",
    "\n",
    "    soluciones.append((objetivo, anotada))\n",
    "\n",
    "with open(\"datos/solucion.pkl\", \"wb\") as f:\n",
    "    pickle.dump(soluciones, f)"
   ]
  },
  {
   "cell_type": "code",
   "execution_count": 6,
   "metadata": {},
   "outputs": [],
   "source": [
    "from typing import List\n",
    "from src.solucion import SolucionAnotada\n",
    "\n",
    "\n",
    "with open(\"datos/solucion.pkl\", \"rb\") as f:\n",
    "    soluciones: List[SolucionAnotada] = pickle.load(f)"
   ]
  },
  {
   "cell_type": "markdown",
   "metadata": {},
   "source": [
    "### Distribución de Función Objetivo"
   ]
  },
  {
   "cell_type": "code",
   "execution_count": 7,
   "metadata": {},
   "outputs": [
    {
     "data": {
      "image/png": "[encoded data removed]",
      "text/plain": [
       "<Figure size 1000x500 with 1 Axes>"
      ]
     },
     "metadata": {},
     "output_type": "display_data"
    }
   ],
   "source": [
    "fig, ax = plt.subplots(1, 1, figsize=(10, 5))\n",
    "\n",
    "optimos = [obj for (obj, _) in soluciones]\n",
    "sns.histplot(optimos, bins=20, ax=ax, stat=\"density\")\n",
    "\n",
    "ax.set_xlabel(\"Objetivo\")\n",
    "ax.set_ylabel(\"Frecuencia\")\n",
    "\n",
    "# Save\n",
    "plt.savefig(\"graficos/distribucion_objetivo.pdf\")\n",
    "\n",
    "plt.show()"
   ]
  },
  {
   "cell_type": "code",
   "execution_count": 9,
   "metadata": {},
   "outputs": [
    {
     "data": {
      "text/plain": [
       "count     1000.000000\n",
       "mean     24272.238838\n",
       "std      16967.447557\n",
       "min          0.000000\n",
       "25%      10278.537670\n",
       "50%      21617.740674\n",
       "75%      36804.636129\n",
       "max      76315.554905\n",
       "dtype: float64"
      ]
     },
     "execution_count": 9,
     "metadata": {},
     "output_type": "execute_result"
    }
   ],
   "source": [
    "pd.Series(optimos).describe()"
   ]
  },
  {
   "cell_type": "code",
   "execution_count": 15,
   "metadata": {},
   "outputs": [
    {
     "data": {
      "text/plain": [
       "np.float64(0.065)"
      ]
     },
     "execution_count": 15,
     "metadata": {},
     "output_type": "execute_result"
    }
   ],
   "source": [
    "(pd.Series(optimos) <= 1e-8).mean()"
   ]
  },
  {
   "cell_type": "code",
   "execution_count": 10,
   "metadata": {},
   "outputs": [
    {
     "data": {
      "image/png": "[encoded data removed]",
      "text/plain": [
       "<Figure size 1000x500 with 1 Axes>"
      ]
     },
     "metadata": {},
     "output_type": "display_data"
    }
   ],
   "source": [
    "fig, ax = plt.subplots(1, 1, figsize=(10, 5))\n",
    "\n",
    "proporciones_optimo_ajustado = [\n",
    "    obj / instancia.beneficio_maximo_pagando_minimo()\n",
    "    for instancia, (obj, _) in zip(instancias, soluciones)\n",
    "]\n",
    "\n",
    "sns.histplot(proporciones_optimo_ajustado, bins=20, ax=ax, stat=\"density\")\n",
    "\n",
    "ax.set_xlabel(\"Proporción\")\n",
    "ax.set_ylabel(\"Frecuencia\")\n",
    "\n",
    "# Save\n",
    "plt.savefig(\"graficos/distribucion_proporcion_objetivo_ajustado.pdf\")\n",
    "\n",
    "plt.show()"
   ]
  }
 ],
 "metadata": {
  "kernelspec": {
   "display_name": "invop-tp-JJy6Hrxr-py3.10",
   "language": "python",
   "name": "python3"
  },
  "language_info": {
   "codemirror_mode": {
    "name": "ipython",
    "version": 3
   },
   "file_extension": ".py",
   "mimetype": "text/x-python",
   "name": "python",
   "nbconvert_exporter": "python",
   "pygments_lexer": "ipython3",
   "version": "3.10.14"
  }
 },
 "nbformat": 4,
 "nbformat_minor": 2
}
